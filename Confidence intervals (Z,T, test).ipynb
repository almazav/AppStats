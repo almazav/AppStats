{
 "cells": [
  {
   "cell_type": "markdown",
   "id": "cbe9726c",
   "metadata": {},
   "source": [
    "https://www.kaggle.com/hamelg/python-for-data-23-confidence-intervals"
   ]
  },
  {
   "cell_type": "code",
   "execution_count": 1,
   "id": "80d42051",
   "metadata": {},
   "outputs": [],
   "source": [
    "import numpy as np\n",
    "from scipy import stats\n",
    "import matplotlib.pyplot as plt  \n",
    "import seaborn as sns                                  \n",
    "import sys      \n",
    "from distfit import distfit\n",
    "import pandas as pd"
   ]
  },
  {
   "cell_type": "markdown",
   "id": "2f0c1004",
   "metadata": {},
   "source": [
    "## Point estimates \n",
    "Point estimates are estimates of population parameters based on sample data."
   ]
  },
  {
   "cell_type": "code",
   "execution_count": 2,
   "id": "6dfeef6c",
   "metadata": {},
   "outputs": [],
   "source": [
    "np.random.seed(42)"
   ]
  },
  {
   "cell_type": "code",
   "execution_count": 3,
   "id": "d814ff81",
   "metadata": {},
   "outputs": [
    {
     "data": {
      "image/png": "[encoded data removed]",
      "text/plain": [
       "<Figure size 432x288 with 1 Axes>"
      ]
     },
     "metadata": {
      "needs_background": "light"
     },
     "output_type": "display_data"
    },
    {
     "data": {
      "text/plain": [
       "42.998628"
      ]
     },
     "execution_count": 3,
     "metadata": {},
     "output_type": "execute_result"
    }
   ],
   "source": [
    "#generate random numbers acording to poisson dist\n",
    "pop1 = poiss_rand = stats.poisson.rvs(loc = 18,mu =35,size = 150000)\n",
    "pop2 = poiss_rand = stats.poisson.rvs(loc = 18,mu =10,size = 100000)\n",
    "pop_ages = np.concatenate((pop1,pop2))\n",
    "plt.hist(pop_ages,bins = 65)\n",
    "plt.show()\n",
    "pop_ages.mean()\n"
   ]
  },
  {
   "cell_type": "code",
   "execution_count": 4,
   "id": "3072209f",
   "metadata": {},
   "outputs": [
    {
     "data": {
      "image/png": "[encoded data removed]",
      "text/plain": [
       "<Figure size 432x288 with 1 Axes>"
      ]
     },
     "metadata": {
      "needs_background": "light"
     },
     "output_type": "display_data"
    },
    {
     "data": {
      "text/plain": [
       "42.558"
      ]
     },
     "execution_count": 4,
     "metadata": {},
     "output_type": "execute_result"
    }
   ],
   "source": [
    "#choose a sample from the population \n",
    "sample = np.random.choice(pop_ages,size=500)\n",
    "plt.hist(sample,bins = 65)\n",
    "plt.show()\n",
    "sample.mean()"
   ]
  },
  {
   "cell_type": "code",
   "execution_count": 5,
   "id": "38390cb3",
   "metadata": {},
   "outputs": [
    {
     "data": {
      "text/plain": [
       "0.4406279999999967"
      ]
     },
     "execution_count": 5,
     "metadata": {},
     "output_type": "execute_result"
    }
   ],
   "source": [
    "#diference between sample and true data\n",
    "pop_ages.mean() - sample.mean()\n"
   ]
  },
  {
   "cell_type": "markdown",
   "id": "8fd2f98e",
   "metadata": {},
   "source": [
    "## The Central Limit Theorem\n",
    " the distribution of many sample means, known as a sampling distribution, will be normally distributed. "
   ]
  },
  {
   "cell_type": "code",
   "execution_count": 6,
   "id": "77061d5b",
   "metadata": {},
   "outputs": [
    {
     "data": {
      "image/png": "[encoded data removed]",
      "text/plain": [
       "<Figure size 432x288 with 1 Axes>"
      ]
     },
     "metadata": {
      "needs_background": "light"
     },
     "output_type": "display_data"
    },
    {
     "data": {
      "text/plain": [
       "0.002169999999999561"
      ]
     },
     "execution_count": 6,
     "metadata": {},
     "output_type": "execute_result"
    }
   ],
   "source": [
    "#take the mean of samples size =500, 2000 times \n",
    "point_estimates = np.array([np.random.choice(a= pop_ages, size=500).mean() for i in range(2000)])      \n",
    "random_gauss = stats.norm.rvs(pop_ages.mean(),point_estimates.std(),size=2000)\n",
    "plt.hist(point_estimates, bins =50,label='Sample')\n",
    "plt.hist(random_gauss,bins = 50,histtype='step',color = 'r',label='Random')\n",
    "plt.legend()\n",
    "plt.show()\n",
    "pop_ages.mean() - point_estimates.mean()"
   ]
  },
  {
   "cell_type": "markdown",
   "id": "e02805ee",
   "metadata": {},
   "source": [
    "## Confidence Intervals\n",
    "A confidence interval is a range of values above and below a point estimate that captures the true population parameter at some predetermined confidence level. "
   ]
  },
  {
   "cell_type": "markdown",
   "id": "3bebd571",
   "metadata": {},
   "source": [
    "If you know the standard deviation of the population, the margin of error is equal to:\n"
   ]
  },
  {
   "cell_type": "markdown",
   "id": "b56864f8",
   "metadata": {},
   "source": [
    "$\\frac{z\\sigma}{\\sqrt{n}}$"
   ]
  },
  {
   "cell_type": "code",
   "execution_count": 7,
   "id": "e920952c",
   "metadata": {},
   "outputs": [
    {
     "name": "stdout",
     "output_type": "stream",
     "text": [
      "z-critical value:\n",
      "1.959963984540054\n",
      "Confidence interval:\n",
      "(42.35184402238434, 43.99215597761565)\n"
     ]
    }
   ],
   "source": [
    "#example\n",
    "#take a sample \n",
    "sample_size = 1000\n",
    "sample = np.random.choice(a= pop_ages, size = sample_size)\n",
    "sample_mean = sample.mean()\n",
    "\n",
    "#z value could be 2 but the blolow is more precise \n",
    "z_critical = stats.norm.ppf(q = 0.975)  # 2 std is .95 +.25(right and left)\n",
    "print(\"z-critical value:\")              # Check the z-critical value\n",
    "print(z_critical)              \n",
    "\n",
    "#calculation\n",
    "pop_stdev = pop_ages.std() \n",
    "margin_of_error = z_critical * (pop_stdev/np.sqrt(sample_size))\n",
    "confidence_interval = (sample_mean - margin_of_error,\n",
    "                       sample_mean + margin_of_error)  \n",
    "\n",
    "print(\"Confidence interval:\")\n",
    "print(confidence_interval)"
   ]
  },
  {
   "cell_type": "code",
   "execution_count": 8,
   "id": "942eb224",
   "metadata": {},
   "outputs": [],
   "source": [
    "sample_size = 1000\n",
    "\n",
    "intervals = []\n",
    "sample_means = []\n",
    "\n",
    "for sample in range(25):\n",
    "    #create samples \n",
    "    sample = np.random.choice(a= pop_ages, size = sample_size)\n",
    "    sample_mean = sample.mean()\n",
    "    sample_means.append(sample_mean)\n",
    "    \n",
    "    #calculate z\n",
    "    z_critical = stats.norm.ppf(q = 0.975)       \n",
    "    \n",
    "    #confidence interval calculation\n",
    "    pop_stdev = pop_ages.std() \n",
    "    margin_of_error = z_critical * (pop_stdev/np.sqrt(sample_size))\n",
    "\n",
    "    confidence_interval = (sample_mean - margin_of_error,\n",
    "                           sample_mean + margin_of_error)  \n",
    "    \n",
    "    intervals.append(confidence_interval)\n"
   ]
  },
  {
   "cell_type": "code",
   "execution_count": 9,
   "id": "22caec9f",
   "metadata": {},
   "outputs": [
    {
     "data": {
      "image/png": "[encoded data removed]",
      "text/plain": [
       "<Figure size 648x648 with 1 Axes>"
      ]
     },
     "metadata": {
      "needs_background": "light"
     },
     "output_type": "display_data"
    }
   ],
   "source": [
    "plt.figure(figsize=(9,9))\n",
    "\n",
    "plt.errorbar(x=np.arange(0, 25, 1), \n",
    "             y=sample_means, \n",
    "             yerr=[(top-bot)/2 for top,bot in intervals],\n",
    "             fmt='o',label='Samples means')\n",
    "\n",
    "plt.hlines(xmin=0, xmax=25,\n",
    "           y=43.0023, \n",
    "           linewidth=2.0,\n",
    "           color=\"red\",label='True Mean')\n",
    "plt.legend()\n",
    "plt.show()"
   ]
  },
  {
   "cell_type": "code",
   "execution_count": 10,
   "id": "1a7ff0bc",
   "metadata": {},
   "outputs": [
    {
     "data": {
      "text/plain": [
       "array([ 0.1,  1.1,  2.1,  3.1,  4.1,  5.1,  6.1,  7.1,  8.1,  9.1, 10.1,\n",
       "       11.1, 12.1, 13.1, 14.1, 15.1, 16.1, 17.1, 18.1, 19.1, 20.1, 21.1,\n",
       "       22.1, 23.1, 24.1])"
      ]
     },
     "execution_count": 10,
     "metadata": {},
     "output_type": "execute_result"
    }
   ],
   "source": [
    "np.arange(0.1, 25, 1)"
   ]
  },
  {
   "cell_type": "markdown",
   "id": "75bb69b3",
   "metadata": {},
   "source": [
    "## T-distribution\n",
    "If you don't know the standard deviation of the population, you have to use the standard deviation of your sample as a stand in when creating confidence intervals. Since the sample standard deviation may not match the population parameter the interval will have more error when you don't know the population standard deviation. To account for this error, we use what's known as a t-critical value instead of the z-critical value."
   ]
  },
  {
   "cell_type": "code",
   "execution_count": 11,
   "id": "b5695101",
   "metadata": {},
   "outputs": [
    {
     "name": "stdout",
     "output_type": "stream",
     "text": [
      "t-critical value:\n",
      "2.0638985616280205\n",
      "Confidence interval:\n",
      "True Mean = 42.998628, with a 95% confidence interval =(39.23992142952577, 50.440078570474235)\n"
     ]
    }
   ],
   "source": [
    "#small sample \n",
    "sample_size = 25\n",
    "sample = np.random.choice(a= pop_ages, size = sample_size)\n",
    "sample_mean = sample.mean()\n",
    "\n",
    "#get ppf of t distribution aprox 2\n",
    "t_critical = stats.t.ppf(q = 0.975, df=24)  \n",
    "\n",
    "print(\"t-critical value:\")            \n",
    "print(t_critical)                        \n",
    "\n",
    "#calculation\n",
    "sample_stdev = sample.std(ddof=1)  \n",
    "sigma = sample_stdev/np.sqrt(sample_size)  \n",
    "margin_of_error = t_critical * sigma\n",
    "\n",
    "confidence_interval = (sample_mean - margin_of_error,\n",
    "                       sample_mean + margin_of_error) \n",
    "print(\"Confidence interval:\")\n",
    "print(f'True Mean = {pop_ages.mean()}, with a 95% confidence interval ={confidence_interval}')"
   ]
  },
  {
   "cell_type": "code",
   "execution_count": 12,
   "id": "be77f5e8",
   "metadata": {},
   "outputs": [
    {
     "data": {
      "text/plain": [
       "(39.23992142952577, 50.440078570474235)"
      ]
     },
     "execution_count": 12,
     "metadata": {},
     "output_type": "execute_result"
    }
   ],
   "source": [
    "#using scipy t interval \n",
    "conf = 0.95\n",
    "dfred = sample_size -1\n",
    "stats.t.interval(alpha = 0.95,df= 24,loc = sample_mean,scale = sigma) "
   ]
  },
  {
   "cell_type": "markdown",
   "id": "2041a239",
   "metadata": {},
   "source": [
    "## Population Portion\n",
    "$z*\\sqrt{\\frac{p(1-p)}{n}}$\n",
    "<br> Where z is the z-critical value for our confidence level, p is the point estimate of the population proportion and n is the sample size."
   ]
  },
  {
   "cell_type": "code",
   "execution_count": 13,
   "id": "f872fe32",
   "metadata": {},
   "outputs": [
    {
     "name": "stdout",
     "output_type": "stream",
     "text": [
      "asian proportion estimate:\n",
      "0.093\n",
      "white proportion estimate:\n",
      "0.417\n",
      "other proportion estimate:\n",
      "0.103\n",
      "hispanic proportion estimate:\n",
      "0.194\n",
      "black proportion estimate:\n",
      "0.193\n"
     ]
    }
   ],
   "source": [
    "population_races = ([\"white\"]*100000) + ([\"black\"]*50000) +\\\n",
    "                   ([\"hispanic\"]*50000) + ([\"asian\"]*25000) +\\\n",
    "                   ([\"other\"]*25000)\n",
    "    \n",
    "demo_sample = np.random.choice(population_races, 1000)   \n",
    "\n",
    "for race in set(demo_sample):\n",
    "    print( race + \" proportion estimate:\" )\n",
    "    print( len(demo_sample[demo_sample==race])/1000 )"
   ]
  },
  {
   "cell_type": "code",
   "execution_count": 14,
   "id": "47fdfee4",
   "metadata": {},
   "outputs": [
    {
     "data": {
      "text/plain": [
       "(0.17425480461665693, 0.2237451953833431)"
      ]
     },
     "execution_count": 14,
     "metadata": {},
     "output_type": "execute_result"
    }
   ],
   "source": [
    "#hispanic poulation\n",
    "z_critical = stats.norm.ppf(0.975)\n",
    "#point estimate \n",
    "p = 0.199\n",
    "#sample size \n",
    "n = 1000    \n",
    "#calculation\n",
    "margin_of_error = z_critical * np.sqrt((p*(1-p))/n)\n",
    "\n",
    "confidence_interval = (p - margin_of_error,  # Calculate the the interval\n",
    "                       p + margin_of_error) \n",
    "\n",
    "confidence_interval\n"
   ]
  },
  {
   "cell_type": "code",
   "execution_count": 15,
   "id": "cba0e042",
   "metadata": {},
   "outputs": [
    {
     "data": {
      "text/plain": [
       "(0.17425480461665693, 0.2237451953833431)"
      ]
     },
     "execution_count": 15,
     "metadata": {},
     "output_type": "execute_result"
    }
   ],
   "source": [
    "#using stats norm interval \n",
    "stats.norm.interval(alpha = 0.95,loc =  0.199,scale = np.sqrt((p*(1-p))/n)) "
   ]
  },
  {
   "cell_type": "markdown",
   "id": "4d159fed",
   "metadata": {},
   "source": [
    "## p-value from z value"
   ]
  },
  {
   "cell_type": "code",
   "execution_count": 18,
   "id": "fb7e2d3c",
   "metadata": {},
   "outputs": [],
   "source": [
    "#1side\n",
    "p_value =(1-(stats.norm.cdf(z_critical))) \n",
    "#2sides \n",
    "p_value= 2*(1-(stats.norm.cdf(z_critical))) "
   ]
  },
  {
   "cell_type": "markdown",
   "id": "15e1c3b5",
   "metadata": {},
   "source": [
    "## Two sample Test"
   ]
  },
  {
   "cell_type": "code",
   "execution_count": null,
   "id": "694d1cc5",
   "metadata": {},
   "outputs": [],
   "source": [
    "def two_sample_z():\n",
    "    return "
   ]
  }
 ],
 "metadata": {
  "kernelspec": {
   "display_name": "Python 3 (ipykernel)",
   "language": "python",
   "name": "python3"
  },
  "language_info": {
   "codemirror_mode": {
    "name": "ipython",
    "version": 3
   },
   "file_extension": ".py",
   "mimetype": "text/x-python",
   "name": "python",
   "nbconvert_exporter": "python",
   "pygments_lexer": "ipython3",
   "version": "3.9.7"
  }
 },
 "nbformat": 4,
 "nbformat_minor": 5
}
