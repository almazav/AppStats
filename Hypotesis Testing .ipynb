{
 "cells": [
  {
   "cell_type": "markdown",
   "id": "675c2479",
   "metadata": {},
   "source": [
    "https://www.kaggle.com/hamelg/python-for-data-24-hypothesis-testing"
   ]
  },
  {
   "cell_type": "code",
   "execution_count": 1,
   "id": "20cdc257",
   "metadata": {},
   "outputs": [],
   "source": [
    "import numpy as np \n",
    "import matplotlib.pyplot as plt\n",
    "from scipy import stats \n"
   ]
  },
  {
   "cell_type": "markdown",
   "id": "36cbba4a",
   "metadata": {},
   "source": [
    "## One-Sample T-Test"
   ]
  },
  {
   "cell_type": "markdown",
   "id": "72463af9",
   "metadata": {},
   "source": [
    "A one-sample t-test checks whether a sample mean differs from the population mean"
   ]
  },
  {
   "cell_type": "code",
   "execution_count": 2,
   "id": "d6bbc62b",
   "metadata": {},
   "outputs": [
    {
     "name": "stdout",
     "output_type": "stream",
     "text": [
      "43.000112\n",
      "39.26\n"
     ]
    }
   ],
   "source": [
    "np.random.seed(6)\n",
    "#data\n",
    "pop_ages1 = stats.poisson.rvs(loc=18, mu=35, size=150000)\n",
    "pop_ages2 = stats.poisson.rvs(loc=18, mu=10, size=100000)\n",
    "pop_ages = np.concatenate((pop_ages1, pop_ages2))\n",
    "\n",
    "#sample \n",
    "sample1 = stats.poisson.rvs(loc=18, mu=30, size=30)\n",
    "sample2 = stats.poisson.rvs(loc=18, mu=10, size=20)\n",
    "sample = np.concatenate((sample1, sample2))\n",
    "\n",
    "print( pop_ages.mean())\n",
    "print( sample.mean())"
   ]
  },
  {
   "cell_type": "markdown",
   "id": "b586e438",
   "metadata": {},
   "source": [
    " Null hypothesis the sample comes from the same distribution as the population, with 95% confidence."
   ]
  },
  {
   "cell_type": "code",
   "execution_count": 3,
   "id": "631b47db",
   "metadata": {},
   "outputs": [
    {
     "data": {
      "text/plain": [
       "Ttest_1sampResult(statistic=-2.5742714883655027, pvalue=0.013118685425061678)"
      ]
     },
     "execution_count": 3,
     "metadata": {},
     "output_type": "execute_result"
    }
   ],
   "source": [
    "stats.ttest_1samp(a = sample, popmean = pop_ages.mean())  "
   ]
  },
  {
   "cell_type": "markdown",
   "id": "6fb05ebf",
   "metadata": {},
   "source": [
    "This test statistic tells us how much the sample mean deviates from the null hypothesis. If the t-statistic lies outside the quantiles of the t-distribution corresponding to our confidence level and degrees of freedom, we reject the null hypothesis."
   ]
  },
  {
   "cell_type": "code",
   "execution_count": 4,
   "id": "535784d3",
   "metadata": {},
   "outputs": [
    {
     "data": {
      "text/plain": [
       "-2.0095752344892093"
      ]
     },
     "execution_count": 4,
     "metadata": {},
     "output_type": "execute_result"
    }
   ],
   "source": [
    "stats.t.ppf(q=0.025,df=49)  # Degrees of freedom"
   ]
  },
  {
   "cell_type": "code",
   "execution_count": 5,
   "id": "61f5baeb",
   "metadata": {},
   "outputs": [
    {
     "data": {
      "text/plain": [
       "0.013121066545690117"
      ]
     },
     "execution_count": 5,
     "metadata": {},
     "output_type": "execute_result"
    }
   ],
   "source": [
    "#same as p-vale\n",
    "stats.t.cdf(x= -2.5742,df= 49) * 2   # Multiply by two for two tailed test *\n"
   ]
  },
  {
   "cell_type": "markdown",
   "id": "93cd209c",
   "metadata": {},
   "source": [
    " there is a 1.3% chance of seeing a result this extreme due to chance, therefore the 95% confidence null hypotesis can be rejected."
   ]
  },
  {
   "cell_type": "markdown",
   "id": "55ce4be2",
   "metadata": {},
   "source": [
    "## Two-Sample T-Test\n",
    "A two-sample t-test investigates whether the means of two independent data samples differ from one another. In a two-sample test, the null hypothesis is that the means of both groups are the same. Unlike the one sample-test where we test against a known population parameter, the two sample test only involves sample means.\n"
   ]
  },
  {
   "cell_type": "code",
   "execution_count": 6,
   "id": "e97d1f9a",
   "metadata": {},
   "outputs": [
    {
     "name": "stdout",
     "output_type": "stream",
     "text": [
      "42.8\n"
     ]
    }
   ],
   "source": [
    "np.random.seed(12)\n",
    "sample2_1 = stats.poisson.rvs(loc=18, mu=33, size=30)\n",
    "sample2_2 = stats.poisson.rvs(loc=18, mu=13, size=20)\n",
    "sample2 = np.concatenate((sample2_1, sample2_2))\n",
    "\n",
    "print( sample2.mean() )"
   ]
  },
  {
   "cell_type": "code",
   "execution_count": 7,
   "id": "c66d293d",
   "metadata": {},
   "outputs": [
    {
     "data": {
      "text/plain": [
       "Ttest_indResult(statistic=-1.7083870793286842, pvalue=0.09073104343957748)"
      ]
     },
     "execution_count": 7,
     "metadata": {},
     "output_type": "execute_result"
    }
   ],
   "source": [
    "stats.ttest_ind(a= sample,b= sample2, equal_var=False)    # perform Welch’s t-test, \n",
    "                                                          #which does not assume equal population variance "
   ]
  },
  {
   "cell_type": "markdown",
   "id": "89d62ed3",
   "metadata": {},
   "source": [
    "## Kolmogorov-Smirnov test for goodness of fit.\n",
    "This test compares the underlying continuous distributions F(x) and G(x) of two independent samples."
   ]
  },
  {
   "cell_type": "markdown",
   "id": "3f3a0697",
   "metadata": {},
   "source": [
    "There are three options for the null and corresponding alternative hypothesis that can be selected using the alternative parameter.\n",
    "\n",
    "two-sided: The null hypothesis is that the two distributions are identical, F(x)=G(x) for all x; the alternative is that they are not identical.\n",
    "\n",
    "less: The null hypothesis is that F(x) >= G(x) for all x; the alternative is that F(x) < G(x) for at least one x.\n",
    "\n",
    "greater: The null hypothesis is that F(x) <= G(x) for all x; the alternative is that F(x) > G(x) for at least one x."
   ]
  },
  {
   "cell_type": "markdown",
   "id": "4d1982d3",
   "metadata": {},
   "source": [
    "If the KS statistic is small or the p-value is high, then we cannot reject the null hypothesis in favor of the alternative."
   ]
  },
  {
   "cell_type": "code",
   "execution_count": 15,
   "id": "6256d182",
   "metadata": {},
   "outputs": [
    {
     "data": {
      "text/plain": [
       "KstestResult(statistic=0.2156, pvalue=6.964726128273455e-204)"
      ]
     },
     "execution_count": 15,
     "metadata": {},
     "output_type": "execute_result"
    }
   ],
   "source": [
    "\n",
    "rvs1 = stats.norm.rvs(size=10000, loc=0., scale=1)\n",
    "rvs2 = stats.norm.rvs(size=10000, loc=0.5, scale=1.5)\n",
    "stats.ks_2samp(rvs1, rvs2)\n"
   ]
  },
  {
   "cell_type": "code",
   "execution_count": 20,
   "id": "cc2d74ca",
   "metadata": {},
   "outputs": [
    {
     "data": {
      "image/png": "[encoded data removed]",
      "text/plain": [
       "<Figure size 864x576 with 1 Axes>"
      ]
     },
     "metadata": {
      "needs_background": "light"
     },
     "output_type": "display_data"
    }
   ],
   "source": [
    "fig, ax = plt.subplots(figsize=(12,8))\n",
    "ax.hist(rvs1,bins=100,histtype='step',label ='rvs1')\n",
    "ax.hist(rvs2,bins=100,histtype='step',label ='rvs2')\n",
    "ax.set(xlabel='Raandom Numbers', ylabel = 'Counts', title= 'KS-Statistics')\n",
    "textstr = '\\n'.join((\n",
    "    r'$x\\mu=%.2f$' % (rvs1.mean(), ),\n",
    "    r'$x2\\sigma=%.2f$' % (rvs1.std(), ),\n",
    "    r'$x3\\mu=%.2f$' % (rvs2.mean(), ),\n",
    "    r'$x4\\sigma=%.2f$' % (rvs2.std(), )))\n",
    "\n",
    "    \n",
    "props = dict(boxstyle='round', facecolor='white', alpha=0.5)\n",
    "\n",
    "# place a text box in upper left in axes coords\n",
    "ax.text(0.05, 0.95, textstr, transform=ax.transAxes, fontsize=14,\n",
    "        verticalalignment='top', bbox=props)\n",
    "plt.legend()\n",
    "plt.show()"
   ]
  },
  {
   "cell_type": "code",
   "execution_count": null,
   "id": "6d5ebd89",
   "metadata": {},
   "outputs": [],
   "source": []
  },
  {
   "cell_type": "code",
   "execution_count": null,
   "id": "b9fbd76c",
   "metadata": {},
   "outputs": [],
   "source": []
  }
 ],
 "metadata": {
  "kernelspec": {
   "display_name": "Python 3 (ipykernel)",
   "language": "python",
   "name": "python3"
  },
  "language_info": {
   "codemirror_mode": {
    "name": "ipython",
    "version": 3
   },
   "file_extension": ".py",
   "mimetype": "text/x-python",
   "name": "python",
   "nbconvert_exporter": "python",
   "pygments_lexer": "ipython3",
   "version": "3.9.7"
  }
 },
 "nbformat": 4,
 "nbformat_minor": 5
}
