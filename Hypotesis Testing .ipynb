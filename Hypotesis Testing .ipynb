{
 "cells": [
  {
   "cell_type": "markdown",
   "id": "675c2479",
   "metadata": {},
   "source": [
    "https://www.kaggle.com/hamelg/python-for-data-24-hypothesis-testing"
   ]
  },
  {
   "cell_type": "code",
   "execution_count": 1,
   "id": "20cdc257",
   "metadata": {},
   "outputs": [],
   "source": [
    "import numpy as np \n",
    "import matplotlib.pyplot as plt\n",
    "from scipy import stats \n"
   ]
  },
  {
   "cell_type": "markdown",
   "id": "36cbba4a",
   "metadata": {},
   "source": [
    "## One-Sample T-Test"
   ]
  },
  {
   "cell_type": "markdown",
   "id": "72463af9",
   "metadata": {},
   "source": [
    "A one-sample t-test checks whether a sample mean differs from the population mean"
   ]
  },
  {
   "cell_type": "code",
   "execution_count": 12,
   "id": "d6bbc62b",
   "metadata": {},
   "outputs": [
    {
     "name": "stdout",
     "output_type": "stream",
     "text": [
      "43.000112\n",
      "39.26\n"
     ]
    }
   ],
   "source": [
    "np.random.seed(6)\n",
    "#data\n",
    "pop_ages1 = stats.poisson.rvs(loc=18, mu=35, size=150000)\n",
    "pop_ages2 = stats.poisson.rvs(loc=18, mu=10, size=100000)\n",
    "pop_ages = np.concatenate((pop_ages1, pop_ages2))\n",
    "\n",
    "#sample \n",
    "sample1 = stats.poisson.rvs(loc=18, mu=30, size=30)\n",
    "sample2 = stats.poisson.rvs(loc=18, mu=10, size=20)\n",
    "sample = np.concatenate((sample1, sample2))\n",
    "\n",
    "print( pop_ages.mean())\n",
    "print( sample.mean())"
   ]
  },
  {
   "cell_type": "markdown",
   "id": "b586e438",
   "metadata": {},
   "source": [
    " Null hypothesis the sample comes from the same distribution as the population, with 95% confidence."
   ]
  },
  {
   "cell_type": "code",
   "execution_count": 13,
   "id": "631b47db",
   "metadata": {},
   "outputs": [
    {
     "data": {
      "text/plain": [
       "Ttest_1sampResult(statistic=-2.5742714883655027, pvalue=0.013118685425061678)"
      ]
     },
     "execution_count": 13,
     "metadata": {},
     "output_type": "execute_result"
    }
   ],
   "source": [
    "stats.ttest_1samp(a = sample, popmean = pop_ages.mean())  "
   ]
  },
  {
   "cell_type": "markdown",
   "id": "6fb05ebf",
   "metadata": {},
   "source": [
    "This test statistic tells us how much the sample mean deviates from the null hypothesis. If the t-statistic lies outside the quantiles of the t-distribution corresponding to our confidence level and degrees of freedom, we reject the null hypothesis."
   ]
  },
  {
   "cell_type": "code",
   "execution_count": 11,
   "id": "535784d3",
   "metadata": {},
   "outputs": [
    {
     "data": {
      "text/plain": [
       "-2.0095752344892093"
      ]
     },
     "execution_count": 11,
     "metadata": {},
     "output_type": "execute_result"
    }
   ],
   "source": [
    "stats.t.ppf(q=0.025,df=49)  # Degrees of freedom"
   ]
  },
  {
   "cell_type": "code",
   "execution_count": 14,
   "id": "61f5baeb",
   "metadata": {},
   "outputs": [
    {
     "data": {
      "text/plain": [
       "0.013121066545690117"
      ]
     },
     "execution_count": 14,
     "metadata": {},
     "output_type": "execute_result"
    }
   ],
   "source": [
    "#same as p-vale\n",
    "stats.t.cdf(x= -2.5742,df= 49) * 2   # Multiply by two for two tailed test *\n"
   ]
  },
  {
   "cell_type": "markdown",
   "id": "93cd209c",
   "metadata": {},
   "source": [
    " there is a 1.3% chance of seeing a result this extreme due to chance, therefore the 95% confidence null hypotesis can be rejected."
   ]
  },
  {
   "cell_type": "markdown",
   "id": "55ce4be2",
   "metadata": {},
   "source": [
    "## Two-Sample T-Test\n",
    "A two-sample t-test investigates whether the means of two independent data samples differ from one another. In a two-sample test, the null hypothesis is that the means of both groups are the same. Unlike the one sample-test where we test against a known population parameter, the two sample test only involves sample means.\n"
   ]
  },
  {
   "cell_type": "code",
   "execution_count": 18,
   "id": "e97d1f9a",
   "metadata": {},
   "outputs": [
    {
     "name": "stdout",
     "output_type": "stream",
     "text": [
      "42.8\n"
     ]
    }
   ],
   "source": [
    "np.random.seed(12)\n",
    "sample2_1 = stats.poisson.rvs(loc=18, mu=33, size=30)\n",
    "sample2_2 = stats.poisson.rvs(loc=18, mu=13, size=20)\n",
    "sample2 = np.concatenate((sample2_1, sample2_2))\n",
    "\n",
    "print( sample2.mean() )"
   ]
  },
  {
   "cell_type": "code",
   "execution_count": 20,
   "id": "c66d293d",
   "metadata": {},
   "outputs": [
    {
     "data": {
      "text/plain": [
       "Ttest_indResult(statistic=-1.7083870793286842, pvalue=0.09073104343957748)"
      ]
     },
     "execution_count": 20,
     "metadata": {},
     "output_type": "execute_result"
    }
   ],
   "source": [
    "stats.ttest_ind(a= sample,b= sample2, equal_var=False)    # perform Welch’s t-test, \n",
    "                                                          #which does not assume equal population variance "
   ]
  },
  {
   "cell_type": "code",
   "execution_count": null,
   "id": "c56cb40a",
   "metadata": {},
   "outputs": [],
   "source": []
  }
 ],
 "metadata": {
  "kernelspec": {
   "display_name": "Python 3 (ipykernel)",
   "language": "python",
   "name": "python3"
  },
  "language_info": {
   "codemirror_mode": {
    "name": "ipython",
    "version": 3
   },
   "file_extension": ".py",
   "mimetype": "text/x-python",
   "name": "python",
   "nbconvert_exporter": "python",
   "pygments_lexer": "ipython3",
   "version": "3.9.7"
  }
 },
 "nbformat": 4,
 "nbformat_minor": 5
}
