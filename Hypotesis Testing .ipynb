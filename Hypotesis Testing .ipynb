{
 "cells": [
  {
   "cell_type": "markdown",
   "id": "675c2479",
   "metadata": {},
   "source": [
    "https://www.kaggle.com/hamelg/python-for-data-24-hypothesis-testing"
   ]
  },
  {
   "cell_type": "code",
   "execution_count": 1,
   "id": "20cdc257",
   "metadata": {},
   "outputs": [],
   "source": [
    "import numpy as np \n",
    "import matplotlib.pyplot as plt\n",
    "from scipy import stats \n"
   ]
  },
  {
   "cell_type": "markdown",
   "id": "36cbba4a",
   "metadata": {},
   "source": [
    "## One-Sample T-Test"
   ]
  },
  {
   "cell_type": "markdown",
   "id": "72463af9",
   "metadata": {},
   "source": [
    "A one-sample t-test checks whether a sample mean differs from the population mean"
   ]
  },
  {
   "cell_type": "code",
   "execution_count": 2,
   "id": "d6bbc62b",
   "metadata": {},
   "outputs": [
    {
     "name": "stdout",
     "output_type": "stream",
     "text": [
      "43.000112\n",
      "39.26\n"
     ]
    }
   ],
   "source": [
    "np.random.seed(6)\n",
    "#data\n",
    "pop_ages1 = stats.poisson.rvs(loc=18, mu=35, size=150000)\n",
    "pop_ages2 = stats.poisson.rvs(loc=18, mu=10, size=100000)\n",
    "pop_ages = np.concatenate((pop_ages1, pop_ages2))\n",
    "\n",
    "#sample \n",
    "sample1 = stats.poisson.rvs(loc=18, mu=30, size=30)\n",
    "sample2 = stats.poisson.rvs(loc=18, mu=10, size=20)\n",
    "sample = np.concatenate((sample1, sample2))\n",
    "\n",
    "print( pop_ages.mean())\n",
    "print( sample.mean())"
   ]
  },
  {
   "cell_type": "markdown",
   "id": "b586e438",
   "metadata": {},
   "source": [
    " Null hypothesis the sample comes from the same distribution as the population, with 95% confidence."
   ]
  },
  {
   "cell_type": "code",
   "execution_count": 3,
   "id": "631b47db",
   "metadata": {},
   "outputs": [
    {
     "data": {
      "text/plain": [
       "Ttest_1sampResult(statistic=-2.5742714883655027, pvalue=0.013118685425061678)"
      ]
     },
     "execution_count": 3,
     "metadata": {},
     "output_type": "execute_result"
    }
   ],
   "source": [
    "stats.ttest_1samp(a = sample, popmean = pop_ages.mean())  "
   ]
  },
  {
   "cell_type": "markdown",
   "id": "6fb05ebf",
   "metadata": {},
   "source": [
    "This test statistic tells us how much the sample mean deviates from the null hypothesis. If the t-statistic lies outside the quantiles of the t-distribution corresponding to our confidence level and degrees of freedom, we reject the null hypothesis."
   ]
  },
  {
   "cell_type": "code",
   "execution_count": 4,
   "id": "535784d3",
   "metadata": {},
   "outputs": [
    {
     "data": {
      "text/plain": [
       "-2.0095752344892093"
      ]
     },
     "execution_count": 4,
     "metadata": {},
     "output_type": "execute_result"
    }
   ],
   "source": [
    "stats.t.ppf(q=0.025,df=49)  "
   ]
  },
  {
   "cell_type": "code",
   "execution_count": 5,
   "id": "61f5baeb",
   "metadata": {},
   "outputs": [
    {
     "data": {
      "text/plain": [
       "0.013121066545690117"
      ]
     },
     "execution_count": 5,
     "metadata": {},
     "output_type": "execute_result"
    }
   ],
   "source": [
    "#same as p-vale\n",
    "stats.t.cdf(x= -2.5742,df= 49) * 2   # Multiply by two for two tailed test *\n"
   ]
  },
  {
   "cell_type": "markdown",
   "id": "93cd209c",
   "metadata": {},
   "source": [
    " there is a 1.3% chance of seeing a result this extreme due to chance, therefore the 95% confidence null hypotesis can be rejected."
   ]
  },
  {
   "cell_type": "markdown",
   "id": "55ce4be2",
   "metadata": {},
   "source": [
    "## Two-Sample T-Test\n",
    "A two-sample t-test investigates whether the means of two independent data samples differ from one another. In a two-sample test, the null hypothesis is that the means of both groups are the same. Unlike the one sample-test where we test against a known population parameter, the two sample test only involves sample means.\n"
   ]
  },
  {
   "cell_type": "code",
   "execution_count": 6,
   "id": "e97d1f9a",
   "metadata": {},
   "outputs": [
    {
     "name": "stdout",
     "output_type": "stream",
     "text": [
      "42.8\n"
     ]
    }
   ],
   "source": [
    "np.random.seed(12)\n",
    "sample2_1 = stats.poisson.rvs(loc=18, mu=33, size=30)\n",
    "sample2_2 = stats.poisson.rvs(loc=18, mu=13, size=20)\n",
    "sample2 = np.concatenate((sample2_1, sample2_2))\n",
    "\n",
    "print( sample2.mean() )"
   ]
  },
  {
   "cell_type": "code",
   "execution_count": 7,
   "id": "c66d293d",
   "metadata": {},
   "outputs": [
    {
     "data": {
      "text/plain": [
       "Ttest_indResult(statistic=-1.7083870793286842, pvalue=0.09073104343957748)"
      ]
     },
     "execution_count": 7,
     "metadata": {},
     "output_type": "execute_result"
    }
   ],
   "source": [
    "stats.ttest_ind(a= sample,b= sample2, equal_var=False)    # perform Welch’s t-test, \n",
    "                                                          #which does not assume equal population variance "
   ]
  },
  {
   "cell_type": "markdown",
   "id": "89d62ed3",
   "metadata": {},
   "source": [
    "## Kolmogorov-Smirnov test for goodness of fit.\n",
    "https://docs.scipy.org/doc/scipy/reference/generated/scipy.stats.ks_2samp.html\n",
    "This test compares the underlying continuous distributions F(x) and G(x) of two independent samples."
   ]
  },
  {
   "cell_type": "markdown",
   "id": "3f3a0697",
   "metadata": {},
   "source": [
    "There are three options for the null and corresponding alternative hypothesis that can be selected using the alternative parameter.\n",
    "\n",
    "two-sided: The null hypothesis is that the two distributions are identical, F(x)=G(x) for all x; the alternative is that they are not identical.\n",
    "\n",
    "less: The null hypothesis is that F(x) >= G(x) for all x; the alternative is that F(x) < G(x) for at least one x.\n",
    "\n",
    "greater: The null hypothesis is that F(x) <= G(x) for all x; the alternative is that F(x) > G(x) for at least one x."
   ]
  },
  {
   "cell_type": "markdown",
   "id": "4d1982d3",
   "metadata": {},
   "source": [
    "If the KS statistic is small or the p-value is high, then we cannot reject the null hypothesis in favor of the alternative."
   ]
  },
  {
   "cell_type": "code",
   "execution_count": 8,
   "id": "6256d182",
   "metadata": {},
   "outputs": [
    {
     "data": {
      "text/plain": [
       "(0.20069999999999993, 0.0)"
      ]
     },
     "execution_count": 8,
     "metadata": {},
     "output_type": "execute_result"
    }
   ],
   "source": [
    "n1 = 20000  # size of first sample\n",
    "n2 = 20000  # size of second sample\n",
    "rvs1 = stats.norm.rvs(size=n1, loc=0., scale=1)\n",
    "rvs2 = stats.norm.rvs(size=n2, loc=0.5, scale=1)\n",
    "ks_stats, p_value = stats.ks_2samp(rvs1, rvs2,alternative='two-sided')\n",
    "ks_stats, p_value"
   ]
  },
  {
   "cell_type": "code",
   "execution_count": 9,
   "id": "cc2d74ca",
   "metadata": {},
   "outputs": [
    {
     "data": {
      "image/png": "[encoded data removed]",
      "text/plain": [
       "<Figure size 864x576 with 1 Axes>"
      ]
     },
     "metadata": {
      "needs_background": "light"
     },
     "output_type": "display_data"
    }
   ],
   "source": [
    "fig, ax = plt.subplots(figsize=(12,8))\n",
    "ax.hist(rvs1,bins=100,histtype='step',label ='rvs1')\n",
    "ax.hist(rvs2,bins=100,histtype='step',label ='rvs2')\n",
    "ax.set_xlabel('Random Numbers',fontsize=14)\n",
    "ax.set_ylabel('Counts',fontsize=14)\n",
    "ax.set_title('KS-Statistics',fontsize=18)\n",
    "textstr = '\\n'.join((\n",
    "    r'$RVS1\\mu=%.2f$' % (rvs1.mean(), ),\n",
    "    r'$RVS1\\sigma=%.2f$' % (rvs1.std(), ),\n",
    "    r'$RVS2\\mu=%.2f$' % (rvs2.mean(), ),\n",
    "    r'$RVS2\\sigma=%.2f$' % (rvs2.std(), ),\n",
    "    r'$KS-stats=%.2f$' % (ks_stats, ),\n",
    "    r'$p-value=%.2f$' % (p_value, )))\n",
    "\n",
    "    \n",
    "props = dict(boxstyle='round', facecolor='white', alpha=0.5)\n",
    "\n",
    "# place a text box in upper left in axes coords\n",
    "ax.text(0.05, 0.97, textstr, transform=ax.transAxes, fontsize=14,\n",
    "        verticalalignment='top', bbox=props)\n",
    "plt.legend(fontsize=14)\n",
    "plt.show()"
   ]
  },
  {
   "cell_type": "code",
   "execution_count": 10,
   "id": "52b81e25",
   "metadata": {},
   "outputs": [
    {
     "data": {
      "image/png": "[encoded data removed]",
      "text/plain": [
       "<Figure size 864x576 with 1 Axes>"
      ]
     },
     "metadata": {
      "needs_background": "light"
     },
     "output_type": "display_data"
    }
   ],
   "source": [
    "fig, ax = plt.subplots(figsize=(12,8))\n",
    "hist1 = ax.hist(rvs1,bins = 100,histtype ='step')\n",
    "hist2 = ax.hist(rvs2,bins = 100,histtype ='step')\n",
    "ax.vlines(np.mean(rvs1),0,700,linestyles='--',label = 'Mean Gaussian 1 = 0')\n",
    "ax.vlines(np.mean(rvs2),0,590,linestyles='--',color='orange',label = 'Mean Gaussian 2 = 0.5')\n",
    "ax.set_xlabel('Random Gaussian',fontsize=14)\n",
    "ax.set_ylabel('Frequency',fontsize=14)\n",
    "ax.set_title('Kolmogorov-Smirnov',fontsize=18)\n",
    "textstr = '\\n'.join((\n",
    "    r'$KS-stats=%.3f$' % (stats.ks_2samp(rvs1, rvs2,alternative='less')[0], ),\n",
    "    r'$p-value=%.3f$' % (stats.ks_2samp(rvs1, rvs2,alternative='less')[1], ),\n",
    "    ))\n",
    "# these are matplotlib.patch.Patch properties\n",
    "props = dict(boxstyle='round', facecolor='wheat', alpha=0.6)\n",
    "\n",
    "# place a text box in upper left in axes coords\n",
    "ax.text(0.05, 0.95, textstr, transform=ax.transAxes, fontsize=14,\n",
    "        verticalalignment='top', bbox=props)\n",
    "plt.legend()\n",
    "\n",
    "plt.show()"
   ]
  },
  {
   "cell_type": "markdown",
   "id": "555b3b65",
   "metadata": {},
   "source": [
    "## Two sample test\n"
   ]
  },
  {
   "cell_type": "code",
   "execution_count": 11,
   "id": "b9fbd76c",
   "metadata": {},
   "outputs": [],
   "source": [
    "def two_sample_z(x1,x2):\n",
    "    return (x1.mean()-x2.mean())/(np.sqrt(x1.std()**2+x2.std()**2))\n",
    "\n",
    "\n",
    "#stats.norm.interval(   alpha=0.68,loc=epsilon,scale=uncertainty_of_epsilon  )"
   ]
  },
  {
   "cell_type": "markdown",
   "id": "a0d03db4",
   "metadata": {},
   "source": [
    "## ROC Curve"
   ]
  },
  {
   "cell_type": "code",
   "execution_count": 12,
   "id": "60ea25ec",
   "metadata": {},
   "outputs": [],
   "source": [
    "r = np.random             # Random generator\n",
    "r.seed(42)                \n",
    "#true positive rate \n",
    "def TPR(TP,FN):\n",
    "    return TP/(TP+FN)\n",
    "#false negative rate \n",
    "def FNR(FP,TN):\n",
    "    return FP/(FP+TN)"
   ]
  },
  {
   "cell_type": "code",
   "execution_count": 13,
   "id": "f65b7ebe",
   "metadata": {},
   "outputs": [],
   "source": [
    "def calc_ROC(hist1, hist2):\n",
    "\n",
    "    # hist1 is signal, hist2 is background\n",
    "\n",
    "    # first we extract the entries (y values) and the edges of the histograms\n",
    "    y_sig, x_sig_edges = hist1\n",
    "    y_bkg, x_bkg_edges = hist2\n",
    "\n",
    "    # Check that the two histograms have the same x edges:\n",
    "    if np.array_equal(x_sig_edges, x_bkg_edges):\n",
    "\n",
    "        # extract the center positions (x values) of the bins (doesn't matter if we use signal or background because they are equal)\n",
    "        x_centers = 0.5*(x_sig_edges[1:] + x_sig_edges[:-1])\n",
    "\n",
    "        # calculate the integral (sum) of the signal and background\n",
    "        integral_sig = y_sig.sum()\n",
    "        integral_bkg = y_bkg.sum()\n",
    "\n",
    "        # initialize empty arrays for the True Positive Rate (TPR) and the False Positive Rate (FPR).\n",
    "        TPR = np.zeros_like(y_sig) # True positive rate (sensitivity)\n",
    "        FPR = np.zeros_like(y_sig) # False positive rate ()\n",
    "\n",
    "        # loop over all bins (x_centers) of the histograms and calculate TN, FP, FN, TP, FPR, and TPR for each bin\n",
    "        for i, x in enumerate(x_centers):\n",
    "\n",
    "            # the cut mask\n",
    "            cut = (x_centers < x)\n",
    "\n",
    "            # true positive\n",
    "            TP = np.sum(y_sig[~cut]) / integral_sig    # True positives\n",
    "            FN = np.sum(y_sig[cut]) / integral_sig     # False negatives\n",
    "            TPR[i] = TP / float(TP + FN)                    # True positive rate\n",
    "\n",
    "            # true negative\n",
    "            TN = np.sum(y_bkg[cut]) / integral_bkg      # True negatives (background)\n",
    "            FP = np.sum(y_bkg[~cut]) / integral_bkg     # False positives\n",
    "            FPR[i] = FP / float(FP + TN)                     # False positive rate\n",
    "\n",
    "        return FPR, TPR\n",
    "    else:\n",
    "        AssertionError(\"Signal and Background histograms have different bins and ranges\")\n",
    "\n",
    "def plot_ROC(FPR, TPR, labels=None, colors=None, figsize=(12,6), ax=None):\n",
    "\n",
    "    if ax is None:\n",
    "        fig, ax = plt.subplots(figsize=figsize)\n",
    "\n",
    "\n",
    "    for i in np.arange(len(FPR)):\n",
    "\n",
    "        kwargs = {}\n",
    "        if colors is not None:\n",
    "            kwargs['color'] = colors[i]\n",
    "        if labels is not None:\n",
    "            kwargs['label'] = labels[i]\n",
    "\n",
    "        ax.plot(FPR[i], TPR[i], **kwargs)\n",
    "\n",
    "\n",
    "    ax.plot([0,1], [0,1], 'k--')\n",
    "    if labels is not None:\n",
    "        ax.legend()\n",
    "    ax.set(xlabel='False Positive Rate (Background Efficiency)', ylabel='True Positive Rate (Signal Efficiency)', xlim=(0, 1), ylim=(0, 1))\n",
    "\n",
    "    return ax"
   ]
  },
  {
   "cell_type": "code",
   "execution_count": 19,
   "id": "6b05ad9a",
   "metadata": {},
   "outputs": [],
   "source": [
    "def get_bin_center(bin_edges):\n",
    "    mid = []\n",
    "    for i, e in enumerate(bin_edges):\n",
    "        if i > 0:\n",
    "            mid.append((bin_edges[i] + bin_edges[i - 1]) / 2)\n",
    "    return np.array(mid)\n",
    "\n",
    "hist1= np.histogram(np.random.normal(5,size=1000),bins=np.linspace(0,15,100),)\n",
    "hist2 = np.histogram(np.random.normal(8,size=1000),bins=np.linspace(0,15,100),)\n",
    "# centers1 = get_bin_center(edges1)\n",
    "# centers2 = get_bin_center(edges2)\n",
    "\n",
    "# plt.step(centers1,count1)\n",
    "# plt.step(centers2,count2)"
   ]
  },
  {
   "cell_type": "code",
   "execution_count": 20,
   "id": "355bcf54",
   "metadata": {},
   "outputs": [
    {
     "data": {
      "text/plain": [
       "2"
      ]
     },
     "execution_count": 20,
     "metadata": {},
     "output_type": "execute_result"
    }
   ],
   "source": [
    "len(hist1)"
   ]
  },
  {
   "cell_type": "code",
   "execution_count": 22,
   "id": "31c9672a",
   "metadata": {},
   "outputs": [
    {
     "data": {
      "text/plain": [
       "(array([1, 1, 1, 1, 1, 1, 1, 1, 1, 1, 1, 1, 1, 1, 1, 1, 1, 1, 1, 1, 1, 1,\n",
       "        1, 1, 1, 1, 1, 1, 1, 1, 1, 1, 1, 1, 0, 0, 0, 0, 0, 0, 0, 0, 0, 0,\n",
       "        0, 0, 0, 0, 0, 0, 0, 0, 0, 0, 0, 0, 0, 0, 0, 0, 0, 0, 0, 0, 0, 0,\n",
       "        0, 0, 0, 0, 0, 0, 0, 0, 0, 0, 0, 0, 0, 0, 0, 0, 0, 0, 0, 0, 0, 0,\n",
       "        0, 0, 0, 0, 0, 0, 0, 0, 0, 0, 0]),\n",
       " array([1, 1, 1, 1, 1, 1, 1, 1, 1, 1, 1, 1, 1, 1, 0, 0, 0, 0, 0, 0, 0, 0,\n",
       "        0, 0, 0, 0, 0, 0, 0, 0, 0, 0, 0, 0, 0, 0, 0, 0, 0, 0, 0, 0, 0, 0,\n",
       "        0, 0, 0, 0, 0, 0, 0, 0, 0, 0, 0, 0, 0, 0, 0, 0, 0, 0, 0, 0, 0, 0,\n",
       "        0, 0, 0, 0, 0, 0, 0, 0, 0, 0, 0, 0, 0, 0, 0, 0, 0, 0, 0, 0, 0, 0,\n",
       "        0, 0, 0, 0, 0, 0, 0, 0, 0, 0, 0]))"
      ]
     },
     "execution_count": 22,
     "metadata": {},
     "output_type": "execute_result"
    }
   ],
   "source": [
    "fpr, tpr = calc_ROC(hist1, hist2)\n",
    "fpr, tpr"
   ]
  },
  {
   "cell_type": "code",
   "execution_count": null,
   "id": "4e841269",
   "metadata": {},
   "outputs": [],
   "source": []
  }
 ],
 "metadata": {
  "kernelspec": {
   "display_name": "Python 3 (ipykernel)",
   "language": "python",
   "name": "python3"
  },
  "language_info": {
   "codemirror_mode": {
    "name": "ipython",
    "version": 3
   },
   "file_extension": ".py",
   "mimetype": "text/x-python",
   "name": "python",
   "nbconvert_exporter": "python",
   "pygments_lexer": "ipython3",
   "version": "3.9.7"
  }
 },
 "nbformat": 4,
 "nbformat_minor": 5
}
