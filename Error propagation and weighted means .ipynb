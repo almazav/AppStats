{
 "cells": [
  {
   "cell_type": "code",
   "execution_count": 20,
   "id": "be8fd634",
   "metadata": {},
   "outputs": [],
   "source": [
    "import numpy as np\n",
    "import matplotlib.pyplot as plt\n",
    "from scipy import stats \n",
    "# Import SymPy: \n",
    "from sympy import * "
   ]
  },
  {
   "cell_type": "markdown",
   "id": "d5bfaa8b",
   "metadata": {},
   "source": [
    "## SYMPY"
   ]
  },
  {
   "cell_type": "code",
   "execution_count": 15,
   "id": "44a4defa",
   "metadata": {},
   "outputs": [],
   "source": [
    "# Defining the parameters:\n",
    "mu1   =  3.5\n",
    "sig1  =  0.4\n",
    "mu2   =  0.8\n",
    "sig2  =  0.2\n",
    "rho12 =  0.5           # Correlation parameter!"
   ]
  },
  {
   "cell_type": "code",
   "execution_count": 16,
   "id": "d7584254",
   "metadata": {},
   "outputs": [],
   "source": [
    "from IPython.core.display import Latex\n",
    "\n",
    "def lprint(*args,**kwargs):\n",
    "    \"\"\"Pretty print arguments as LaTeX using IPython display system \n",
    "    \n",
    "    Parameters\n",
    "    ----------\n",
    "    args : tuple \n",
    "        What to print (in LaTeX math mode)\n",
    "    kwargs : dict \n",
    "        optional keywords to pass to `display` \n",
    "    \"\"\"\n",
    "    display(Latex('$$'+' '.join(args)+'$$'),**kwargs)\n",
    "    \n",
    "from IPython.core.display import Latex\n",
    "\n",
    "def lprint(*args,**kwargs):\n",
    "    \"\"\"Pretty print arguments as LaTeX using IPython display system \n",
    "    \n",
    "    Parameters\n",
    "    ----------\n",
    "    args : tuple \n",
    "        What to print (in LaTeX math mode)\n",
    "    kwargs : dict \n",
    "        optional keywords to pass to `display` \n",
    "    \"\"\"\n",
    "    display(Latex('$$'+' '.join(args)+'$$'),**kwargs)\n",
    "    \n",
    "def myDiff(formula):\n",
    "    return sqrt((formula.diff(L) * dL)**2 + (formula.diff(W) * dW)**2)\n",
    "\n",
    "def myDiffWithCorr(formula, name = \"\", printNow = False):\n",
    "    dd = sqrt((formula.diff(L) * dL)**2 + (formula.diff(W) * dW)**2 + 2*(formula.diff(L)*formula.diff(W)*(sigCorr**2)))\n",
    "    if(printNow):\n",
    "        lprint(latex(Eq(symbols('sigma_'+name), dd)))\n",
    "    fd = lambdify((L,dL,W,dW,sigCorr),dd)\n",
    "    return dd, fd\n",
    "    \n",
    "def diff_and_print(formula, name = \"\"):\n",
    "    # Calculate uncertainty and print original relation/formula and the uncertainty\n",
    "    dd = myDiff(formula)\n",
    "    lprint(latex(Eq(symbols(name),formula)))\n",
    "    lprint(latex(Eq(symbols('sigma_'+name), dd)))\n",
    "    \n",
    "def lambdifyFormula(formula, *args, name = \"\"):\n",
    "    # Turn expression into numerical functions \n",
    "    f = lambdify((L,W),formula)\n",
    "    d = myDiff(formula)\n",
    "    fd = lambdify((L,dL,W,dW),d)\n",
    "    return f, fd\n"
   ]
  },
  {
   "cell_type": "code",
   "execution_count": 18,
   "id": "a76f7988",
   "metadata": {},
   "outputs": [
    {
     "data": {
      "text/latex": [
       "$$P = 2 L + 2 W$$"
      ],
      "text/plain": [
       "<IPython.core.display.Latex object>"
      ]
     },
     "metadata": {},
     "output_type": "display_data"
    },
    {
     "data": {
      "text/latex": [
       "$$\\sigma_{P} = \\sqrt{4 \\sigma_{L}^{2} + 4 \\sigma_{W}^{2}}$$"
      ],
      "text/plain": [
       "<IPython.core.display.Latex object>"
      ]
     },
     "metadata": {},
     "output_type": "display_data"
    },
    {
     "data": {
      "text/latex": [
       "$$P = (8.6 \\pm 0.9)\\,\\mathrm{m}$$"
      ],
      "text/plain": [
       "<IPython.core.display.Latex object>"
      ]
     },
     "metadata": {},
     "output_type": "display_data"
    },
    {
     "data": {
      "text/latex": [
       "$$\\sigma_{P} = \\sqrt{4 \\sigma_{L}^{2} + 4 \\sigma_{W}^{2}}$$"
      ],
      "text/plain": [
       "<IPython.core.display.Latex object>"
      ]
     },
     "metadata": {},
     "output_type": "display_data"
    },
    {
     "data": {
      "text/latex": [
       "$$P = (8.6 \\pm 0.9)\\,\\mathrm{m}$$"
      ],
      "text/plain": [
       "<IPython.core.display.Latex object>"
      ]
     },
     "metadata": {},
     "output_type": "display_data"
    }
   ],
   "source": [
    "# Define variables:\n",
    "L,W,P = symbols(\"L, W, P\")\n",
    "dL,dW,dP = symbols(\"sigma_L, sigma_W, sigma_P\")\n",
    "\n",
    "# Define functions:\n",
    "\n",
    "P = 2*L + 2*W\n",
    "\n",
    "#print\n",
    "diff_and_print(P,\"P\")\n",
    "\n",
    "#get derivative \n",
    "dP = myDiff(P)\n",
    "\n",
    "# Turn expressions into numerical functions \n",
    "fP, fdP = lambdifyFormula(P,\"P\")\n",
    "\n",
    "# Define values and their errors\n",
    "vL, vdL = mu1,sig1\n",
    "vW, vdW = mu2,sig2\n",
    "\n",
    "# Numerically evaluate expressions and print \n",
    "vP = fP(vL,vW)\n",
    "vdP = fdP(vL,vdL,vW,vdW)\n",
    "\n",
    "lprint(fr'P = ({vP:.1f} \\pm {vdP:.1f})\\,\\mathrm{{m}}')\n",
    "\n",
    "#Adding correlations (and also derivation, printing and lambdifying)\n",
    "sigCorr = symbols(\"sigma_LW\")\n",
    "rho = symbols(\"rho_LW\")\n",
    "\n",
    "# Calculate uncertainty and print:\n",
    "dP = sqrt((P.diff(L) * dL)**2 + (P.diff(W) * dW)**2)\n",
    "lprint(latex(Eq(symbols('sigma_P'), dP)))\n",
    "\n",
    "# Turn expression into numerical functions \n",
    "fP = lambdify((L,W),P)\n",
    "fdP = lambdify((L,dL,W,dW),dP)\n",
    "\n",
    "#CORRELATIONS\n",
    "# sCorr = sqrt(rho*dL*dW)\n",
    "# fSC = lambdify((rho,dL,dW),sCorr)\n",
    "\n",
    "# vSigmaCorr = fSC(rho12,vdL,vdW)\n",
    "\n",
    "# # Numerically evaluate expressions and print \n",
    "# vdP = fdP(vL,vdL,vW,vdW,vSigmaCorr)\n",
    "\n",
    "# Define values and their errors\n",
    "vL, vdL = mu1,sig1\n",
    "vW, vdW = mu2,sig2\n",
    "\n",
    "# Numerically evaluate expressions and print \n",
    "vP = fP(vL,vW)\n",
    "vdP = fdP(vL,vdL,vW,vdW)\n",
    "lprint(fr'P = ({vP:.1f} \\pm {vdP:.1f})\\,\\mathrm{{m}}')"
   ]
  },
  {
   "cell_type": "markdown",
   "id": "2bb1acaa",
   "metadata": {},
   "source": [
    "## SIMULATION\n",
    "if not stated otherwise errors are gaussians"
   ]
  },
  {
   "cell_type": "code",
   "execution_count": 21,
   "id": "f6750fb7",
   "metadata": {},
   "outputs": [],
   "source": [
    "mean_L = 3.5\n",
    "std_L = 0.4\n",
    "mean_W = 0.8\n",
    "std_W = 0.2\n",
    "num = 10000     #amount of random numbers \n",
    "\n",
    "#generate random numbers \n",
    "random_gaussian_L = stats.norm.rvs(loc=mean_L, scale=std_L,size=num) \n",
    "random_gaussian_W = stats.norm.rvs(loc=mean_W, scale=std_W,size=num) "
   ]
  },
  {
   "cell_type": "code",
   "execution_count": 30,
   "id": "5a250cc1",
   "metadata": {},
   "outputs": [
    {
     "name": "stdout",
     "output_type": "stream",
     "text": [
      "P=(8.6+/-0.9)\n"
     ]
    }
   ],
   "source": [
    "P_rand = 2*random_gaussian_L + 2*random_gaussian_W\n",
    "P_std = P_rand.std()\n",
    "P = P_rand.mean()\n",
    "print(f'P=({P:.1f}+/-{P_std:.1f})')"
   ]
  },
  {
   "cell_type": "markdown",
   "id": "56e05a5a",
   "metadata": {},
   "source": [
    "## ERROR ON A FRACTION"
   ]
  },
  {
   "cell_type": "code",
   "execution_count": 25,
   "id": "55627c8b",
   "metadata": {},
   "outputs": [],
   "source": [
    "def frac_error(a,b):\n",
    "    \"\"\"params:\n",
    "       a: number 1\n",
    "       b: number 2\n",
    "       return: fraction with its error\"\"\"\n",
    "    frac = a/b\n",
    "    frac_error = np.sqrt((frac * (1-frac)) / b)\n",
    "    return frac,frac_error\n"
   ]
  },
  {
   "cell_type": "code",
   "execution_count": 28,
   "id": "284b793f",
   "metadata": {},
   "outputs": [
    {
     "name": "stdout",
     "output_type": "stream",
     "text": [
      "0.0239+/-0.0005\n"
     ]
    }
   ],
   "source": [
    "#example \n",
    "total = 103261\n",
    "positives = 2464 \n",
    "fraction, error = frac_error(positives,total)\n",
    "print(f'{fraction:.4f}+/-{error:.4f}')"
   ]
  },
  {
   "cell_type": "markdown",
   "id": "0686e930",
   "metadata": {},
   "source": [
    "## WEIGHTED MEAN"
   ]
  },
  {
   "cell_type": "code",
   "execution_count": 60,
   "id": "156519a2",
   "metadata": {},
   "outputs": [],
   "source": [
    "def weighted_mean(values, uncertanties):\n",
    "    \"\"\"params:\n",
    "       values: list of measurments\n",
    "       uncertanties: list of uncertanties\n",
    "       return: weighted mean and error\"\"\"\n",
    "    weights= 1/uncertanties**2\n",
    "    weighted_mean=np.average(values, weights=weights)\n",
    "    error = np.sqrt(1/sum(weights))\n",
    "#     variance = np.average((values-weighted_mean)**2,weights = weights)\n",
    "#     weighted_std = np.sqrt(variance)\n",
    "    return weighted_mean,error\n"
   ]
  },
  {
   "cell_type": "code",
   "execution_count": 61,
   "id": "b550cd4c",
   "metadata": {},
   "outputs": [
    {
     "name": "stdout",
     "output_type": "stream",
     "text": [
      "The best estimate  is 9.85+\\-0.021\n"
     ]
    }
   ],
   "source": [
    "#example \n",
    "results = np.array([ 10.02, 9.87, 9.98, 9.86, 9.86, 9.81, 9.79]) \n",
    "uncertanties= np.array([ 0.11, 0.08, 0.14, 0.06, 0.03, 0.13, 0.04]) \n",
    "results_mean, error = weighted_mean(results, uncertanties)\n",
    "print(f'The best estimate  is {results_mean:.2f}+\\-{error:.3f}')"
   ]
  },
  {
   "cell_type": "code",
   "execution_count": null,
   "id": "3faeab78",
   "metadata": {},
   "outputs": [],
   "source": []
  },
  {
   "cell_type": "code",
   "execution_count": null,
   "id": "126704af",
   "metadata": {},
   "outputs": [],
   "source": []
  }
 ],
 "metadata": {
  "kernelspec": {
   "display_name": "Python 3 (ipykernel)",
   "language": "python",
   "name": "python3"
  },
  "language_info": {
   "codemirror_mode": {
    "name": "ipython",
    "version": 3
   },
   "file_extension": ".py",
   "mimetype": "text/x-python",
   "name": "python",
   "nbconvert_exporter": "python",
   "pygments_lexer": "ipython3",
   "version": "3.9.7"
  }
 },
 "nbformat": 4,
 "nbformat_minor": 5
}
