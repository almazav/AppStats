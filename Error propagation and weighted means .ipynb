{
 "cells": [
  {
   "cell_type": "code",
   "execution_count": 1,
   "id": "be8fd634",
   "metadata": {},
   "outputs": [],
   "source": [
    "import numpy as np\n",
    "import matplotlib.pyplot as plt\n",
    "from scipy import stats \n",
    "from iminuit import Minuit\n",
    "# Import SymPy: \n",
    "from sympy import * "
   ]
  },
  {
   "cell_type": "markdown",
   "id": "d5bfaa8b",
   "metadata": {},
   "source": [
    "## SYMPY"
   ]
  },
  {
   "cell_type": "code",
   "execution_count": 2,
   "id": "44a4defa",
   "metadata": {},
   "outputs": [],
   "source": [
    "# Defining the parameters:\n",
    "mu1   =  3.5\n",
    "sig1  =  0.4\n",
    "mu2   =  0.8\n",
    "sig2  =  0.2\n",
    "rho12 =  0.5           # Correlation parameter!"
   ]
  },
  {
   "cell_type": "code",
   "execution_count": 3,
   "id": "d7584254",
   "metadata": {},
   "outputs": [],
   "source": [
    "from IPython.core.display import Latex\n",
    "\n",
    "def lprint(*args,**kwargs):\n",
    "    \"\"\"Pretty print arguments as LaTeX using IPython display system \n",
    "    \n",
    "    Parameters\n",
    "    ----------\n",
    "    args : tuple \n",
    "        What to print (in LaTeX math mode)\n",
    "    kwargs : dict \n",
    "        optional keywords to pass to `display` \n",
    "    \"\"\"\n",
    "    display(Latex('$$'+' '.join(args)+'$$'),**kwargs)\n",
    "    \n",
    "from IPython.core.display import Latex\n",
    "\n",
    "def lprint(*args,**kwargs):\n",
    "    \"\"\"Pretty print arguments as LaTeX using IPython display system \n",
    "    \n",
    "    Parameters\n",
    "    ----------\n",
    "    args : tuple \n",
    "        What to print (in LaTeX math mode)\n",
    "    kwargs : dict \n",
    "        optional keywords to pass to `display` \n",
    "    \"\"\"\n",
    "    display(Latex('$$'+' '.join(args)+'$$'),**kwargs)\n",
    "    \n",
    "def myDiff(formula):\n",
    "    return sqrt((formula.diff(L) * dL)**2 + (formula.diff(W) * dW)**2)\n",
    "\n",
    "def myDiffWithCorr(formula, name = \"\", printNow = False):\n",
    "    dd = sqrt((formula.diff(L) * dL)**2 + (formula.diff(W) * dW)**2 + 2*(formula.diff(L)*formula.diff(W)*(sigCorr**2)))\n",
    "    if(printNow):\n",
    "        lprint(latex(Eq(symbols('sigma_'+name), dd)))\n",
    "    fd = lambdify((L,dL,W,dW,sigCorr),dd)\n",
    "    return dd, fd\n",
    "    \n",
    "def diff_and_print(formula, name = \"\"):\n",
    "    # Calculate uncertainty and print original relation/formula and the uncertainty\n",
    "    dd = myDiff(formula)\n",
    "    lprint(latex(Eq(symbols(name),formula)))\n",
    "    lprint(latex(Eq(symbols('sigma_'+name), dd)))\n",
    "    \n",
    "def lambdifyFormula(formula, *args, name = \"\"):\n",
    "    # Turn expression into numerical functions \n",
    "    f = lambdify((L,W),formula)\n",
    "    d = myDiff(formula)\n",
    "    fd = lambdify((L,dL,W,dW),d)\n",
    "    return f, fd\n"
   ]
  },
  {
   "cell_type": "code",
   "execution_count": 4,
   "id": "a76f7988",
   "metadata": {},
   "outputs": [
    {
     "data": {
      "text/latex": [
       "$$P = 2 L + 2 W$$"
      ],
      "text/plain": [
       "<IPython.core.display.Latex object>"
      ]
     },
     "metadata": {},
     "output_type": "display_data"
    },
    {
     "data": {
      "text/latex": [
       "$$\\sigma_{P} = \\sqrt{4 \\sigma_{L}^{2} + 4 \\sigma_{W}^{2}}$$"
      ],
      "text/plain": [
       "<IPython.core.display.Latex object>"
      ]
     },
     "metadata": {},
     "output_type": "display_data"
    },
    {
     "data": {
      "text/latex": [
       "$$P = (8.6 \\pm 0.9)\\,\\mathrm{m}$$"
      ],
      "text/plain": [
       "<IPython.core.display.Latex object>"
      ]
     },
     "metadata": {},
     "output_type": "display_data"
    },
    {
     "data": {
      "text/latex": [
       "$$\\sigma_{P} = \\sqrt{4 \\sigma_{L}^{2} + 4 \\sigma_{W}^{2}}$$"
      ],
      "text/plain": [
       "<IPython.core.display.Latex object>"
      ]
     },
     "metadata": {},
     "output_type": "display_data"
    },
    {
     "data": {
      "text/latex": [
       "$$P = (8.6 \\pm 0.9)\\,\\mathrm{m}$$"
      ],
      "text/plain": [
       "<IPython.core.display.Latex object>"
      ]
     },
     "metadata": {},
     "output_type": "display_data"
    }
   ],
   "source": [
    "# Define variables:\n",
    "L,W,P = symbols(\"L, W, P\")\n",
    "dL,dW,dP = symbols(\"sigma_L, sigma_W, sigma_P\")\n",
    "\n",
    "# Define functions:\n",
    "\n",
    "P = 2*L + 2*W\n",
    "\n",
    "#print\n",
    "diff_and_print(P,\"P\")\n",
    "\n",
    "#get derivative \n",
    "dP = myDiff(P)\n",
    "\n",
    "# Turn expressions into numerical functions \n",
    "fP, fdP = lambdifyFormula(P,\"P\")\n",
    "\n",
    "# Define values and their errors\n",
    "vL, vdL = mu1,sig1\n",
    "vW, vdW = mu2,sig2\n",
    "\n",
    "# Numerically evaluate expressions and print \n",
    "vP = fP(vL,vW)\n",
    "vdP = fdP(vL,vdL,vW,vdW)\n",
    "\n",
    "lprint(fr'P = ({vP:.1f} \\pm {vdP:.1f})\\,\\mathrm{{m}}')\n",
    "\n",
    "#Adding correlations (and also derivation, printing and lambdifying)\n",
    "sigCorr = symbols(\"sigma_LW\")\n",
    "rho = symbols(\"rho_LW\")\n",
    "\n",
    "# Calculate uncertainty and print:\n",
    "dP = sqrt((P.diff(L) * dL)**2 + (P.diff(W) * dW)**2)\n",
    "lprint(latex(Eq(symbols('sigma_P'), dP)))\n",
    "\n",
    "# Turn expression into numerical functions \n",
    "fP = lambdify((L,W),P)\n",
    "fdP = lambdify((L,dL,W,dW),dP)\n",
    "\n",
    "#CORRELATIONS\n",
    "# sCorr = sqrt(rho*dL*dW)\n",
    "# fSC = lambdify((rho,dL,dW),sCorr)\n",
    "\n",
    "# vSigmaCorr = fSC(rho12,vdL,vdW)\n",
    "\n",
    "# # Numerically evaluate expressions and print \n",
    "# vdP = fdP(vL,vdL,vW,vdW,vSigmaCorr)\n",
    "\n",
    "# Define values and their errors\n",
    "vL, vdL = mu1,sig1\n",
    "vW, vdW = mu2,sig2\n",
    "\n",
    "# Numerically evaluate expressions and print \n",
    "vP = fP(vL,vW)\n",
    "vdP = fdP(vL,vdL,vW,vdW)\n",
    "lprint(fr'P = ({vP:.1f} \\pm {vdP:.1f})\\,\\mathrm{{m}}')"
   ]
  },
  {
   "cell_type": "markdown",
   "id": "2bb1acaa",
   "metadata": {},
   "source": [
    "## SIMULATION\n",
    "if not stated otherwise errors are gaussians"
   ]
  },
  {
   "cell_type": "code",
   "execution_count": 5,
   "id": "f6750fb7",
   "metadata": {},
   "outputs": [],
   "source": [
    "mean_L = 3.5\n",
    "std_L = 0.4\n",
    "mean_W = 0.8\n",
    "std_W = 0.2\n",
    "num = 10000     #amount of random numbers \n",
    "\n",
    "#generate random numbers \n",
    "random_gaussian_L = stats.norm.rvs(loc=mean_L, scale=std_L,size=num) \n",
    "random_gaussian_W = stats.norm.rvs(loc=mean_W, scale=std_W,size=num) "
   ]
  },
  {
   "cell_type": "code",
   "execution_count": 6,
   "id": "5a250cc1",
   "metadata": {},
   "outputs": [
    {
     "name": "stdout",
     "output_type": "stream",
     "text": [
      "P=(8.6+/-0.9)\n"
     ]
    }
   ],
   "source": [
    "P_rand = 2*random_gaussian_L + 2*random_gaussian_W\n",
    "P_std = P_rand.std()\n",
    "P = P_rand.mean()\n",
    "print(f'P=({P:.1f}+/-{P_std:.1f})')"
   ]
  },
  {
   "cell_type": "markdown",
   "id": "56e05a5a",
   "metadata": {},
   "source": [
    "## ERROR ON A FRACTION"
   ]
  },
  {
   "cell_type": "code",
   "execution_count": 7,
   "id": "55627c8b",
   "metadata": {},
   "outputs": [],
   "source": [
    "def frac_error(a,b):\n",
    "    \"\"\"params:\n",
    "       a: number 1\n",
    "       b: number 2\n",
    "       return: fraction with its error\"\"\"\n",
    "    frac = a/b\n",
    "    frac_error = np.sqrt((frac * (1-frac)) / b)\n",
    "    return frac,frac_error\n"
   ]
  },
  {
   "cell_type": "code",
   "execution_count": 8,
   "id": "284b793f",
   "metadata": {},
   "outputs": [
    {
     "name": "stdout",
     "output_type": "stream",
     "text": [
      "0.0239+/-0.0005\n"
     ]
    }
   ],
   "source": [
    "#example \n",
    "total = 103261\n",
    "positives = 2464 \n",
    "fraction, error = frac_error(positives,total)\n",
    "print(f'{fraction:.4f}+/-{error:.4f}')"
   ]
  },
  {
   "cell_type": "markdown",
   "id": "0686e930",
   "metadata": {},
   "source": [
    "## WEIGHTED MEAN"
   ]
  },
  {
   "cell_type": "code",
   "execution_count": 9,
   "id": "156519a2",
   "metadata": {},
   "outputs": [],
   "source": [
    "def weighted_mean(values, uncertanties):\n",
    "    \"\"\"params:\n",
    "       values: list of measurments\n",
    "       uncertanties: list of uncertanties\n",
    "       return: weighted mean and error\"\"\"\n",
    "    weights= 1/uncertanties**2\n",
    "    weighted_mean=np.average(values, weights=weights)\n",
    "    error = np.sqrt(1/sum(weights))\n",
    "#     variance = np.average((values-weighted_mean)**2,weights = weights)\n",
    "#     weighted_std = np.sqrt(variance)\n",
    "    return weighted_mean,error\n"
   ]
  },
  {
   "cell_type": "code",
   "execution_count": 10,
   "id": "b550cd4c",
   "metadata": {},
   "outputs": [
    {
     "name": "stdout",
     "output_type": "stream",
     "text": [
      "The best estimate  is 9.81+\\-0.011\n"
     ]
    }
   ],
   "source": [
    "#example \n",
    "results = np.array([9.54,9.36,10.02,9.87,9.98,9.86,9.86,9.81,9.79])\n",
    "uncertanties= np.array([0.15,0.10,0.11,0.08,0.14,0.06,0.03,0.013,0.04])\n",
    "results_mean, error = weighted_mean(results, uncertanties)\n",
    "print(f'The best estimate  is {results_mean:.2f}+\\-{error:.3f}')"
   ]
  },
  {
   "cell_type": "code",
   "execution_count": 11,
   "id": "6d694987",
   "metadata": {},
   "outputs": [
    {
     "data": {
      "text/plain": [
       "array([0.27422553, 0.45422553, 0.20577447, 0.05577447, 0.16577447,\n",
       "       0.04577447, 0.04577447, 0.00422553, 0.02422553])"
      ]
     },
     "execution_count": 11,
     "metadata": {},
     "output_type": "execute_result"
    }
   ],
   "source": [
    "residuals = abs(results - results_mean)\n",
    "residuals"
   ]
  },
  {
   "cell_type": "markdown",
   "id": "13fcd515",
   "metadata": {},
   "source": [
    "## Chauvenet's criterion\n"
   ]
  },
  {
   "cell_type": "code",
   "execution_count": 12,
   "id": "c33882a4",
   "metadata": {},
   "outputs": [
    {
     "data": {
      "text/plain": [
       "(array([9.87, 9.98, 9.86, 9.86, 9.81, 9.79]),\n",
       " array([0.08 , 0.14 , 0.06 , 0.03 , 0.013, 0.04 ]),\n",
       " [9.36, 9.54, 10.02],\n",
       " [0.1, 0.15, 0.11])"
      ]
     },
     "execution_count": 12,
     "metadata": {},
     "output_type": "execute_result"
    }
   ],
   "source": [
    "def std_away_func(results,uncertanties,results_mean):\n",
    "    #calculate no of std away from the mean(equal to zvalue)\n",
    "    std_away = abs((results-results_mean)/uncertanties)\n",
    "    #p-values \n",
    "    p_values =(1-(stats.norm.cdf(std_away))) \n",
    "    #get the index \n",
    "    remove_i = np.argwhere(p_values == min(p_values))\n",
    "    return std_away, p_values, remove_i\n",
    "\n",
    "def Chauvenet(criterion,results,uncertanties):\n",
    "    #list to store removed values \n",
    "    removed_values=[]\n",
    "    removed_uncertanties = []\n",
    "    \n",
    "    #calculate best estimates \n",
    "    results_mean, error = weighted_mean(results, uncertanties)\n",
    "    #how many standard deviations are results from the mean and its probability\n",
    "    std_away, p_values, remove_i= std_away_func(results,uncertanties,results_mean)\n",
    "    \n",
    "    \n",
    "    #if the values have more than x stds remove them \n",
    "    while min(p_values) <=criterion:\n",
    "        #print(max(std_away))\n",
    "        #save reoved values \n",
    "        removed_values.append(results[remove_i][0][0])\n",
    "        removed_uncertanties.append(uncertanties[remove_i][0][0])\n",
    "        \n",
    "        #remove \n",
    "        results= np.delete(results.copy(), remove_i)\n",
    "        uncertanties = np.delete(uncertanties.copy(),remove_i)\n",
    "        #calculate new mean \n",
    "        results_mean, error = weighted_mean(results, uncertanties)\n",
    "        \n",
    "        #repeat \n",
    "        #how many standard deviations are results from the mean\n",
    "        std_away, p_values, remove_i= std_away_func(results,uncertanties,results_mean)\n",
    "        \n",
    "    return results,uncertanties,removed_values,removed_uncertanties\n",
    "        \n",
    "results,uncertanties,removed_values,removed_uncertanties= Chauvenet(0.05,results,uncertanties)\n",
    "results,uncertanties,removed_values,removed_uncertanties"
   ]
  },
  {
   "cell_type": "markdown",
   "id": "9aee53f5",
   "metadata": {},
   "source": [
    "## Constant fit \n",
    "\n"
   ]
  },
  {
   "cell_type": "code",
   "execution_count": 13,
   "id": "0974a6b0",
   "metadata": {},
   "outputs": [
    {
     "name": "stdout",
     "output_type": "stream",
     "text": [
      "g = (9.82 ± 0.01), P(Chi2=5.07, N_dof=5) = 0.4076\n"
     ]
    }
   ],
   "source": [
    "# chi2 fit of constant\n",
    "def chi2_constant(c):\n",
    "    y_fit = np.ones_like(y) * c\n",
    "    chi2 = np.sum(((y - y_fit) / sy)**2)\n",
    "    return chi2\n",
    "def constant_fit(y,sy):\n",
    "    chi2_constant.errordef = Minuit.LEAST_SQUARES \n",
    "    minuit_simple = Minuit(chi2_constant, c=0)\n",
    "    minuit_simple.migrad()\n",
    "\n",
    "    c = minuit_simple.values[:][0]\n",
    "    ec = minuit_simple.errors[:][0]\n",
    "    res = y-chi2_constant(c)\n",
    "\n",
    "    chi2 = minuit_simple.fval\n",
    "    ndof =  len(y) - minuit_simple.nfit\n",
    "    prob = stats.chi2.sf(chi2, ndof)\n",
    "\n",
    "    return c, ec, res, chi2, ndof, prob\n",
    "\n",
    "y = results\n",
    "sy = uncertanties\n",
    "\n",
    "g, eg, res, chi2, ndof, prob = constant_fit(y, sy)\n",
    "print(f'g = ({g:.02f} ± {eg:.02f}), P(Chi2={chi2:.02f}, N_dof={ndof}) = {prob:.04f}')"
   ]
  },
  {
   "cell_type": "markdown",
   "id": "2362eeef",
   "metadata": {},
   "source": [
    "## Plot"
   ]
  },
  {
   "cell_type": "code",
   "execution_count": 16,
   "id": "126704af",
   "metadata": {},
   "outputs": [
    {
     "data": {
      "image/png": "[encoded data removed]",
      "text/plain": [
       "<Figure size 1008x576 with 1 Axes>"
      ]
     },
     "metadata": {
      "needs_background": "light"
     },
     "output_type": "display_data"
    }
   ],
   "source": [
    "# hide\n",
    "fig, ax = plt.subplots(figsize=(14,8)) \n",
    "\n",
    "\n",
    "#errors\n",
    "ax.errorbar(np.arange(1,len(results)+1),results,uncertanties,\n",
    "            label='Measurments', fmt = 'o',  ecolor='k', elinewidth=1, capthick=2)\n",
    "\n",
    "old_lim = ax.get_xlim()\n",
    "xlim = ax.get_xlim()\n",
    "ax.hlines(results_mean, *xlim, color='k',linestyles='--',label='g')\n",
    "#create a gradient \n",
    "ax.fill_between(np.arange(xlim[0], xlim[1]+1), \n",
    "                results_mean+error, results_mean-error, alpha=0.9, color='lightgray',label=('g Error'))\n",
    "ax.fill_between(np.arange(xlim[0], xlim[1]+1),\n",
    "                results_mean+2*error, results_mean-2*error, alpha=0.5, color='lightgray')\n",
    "ax.fill_between(np.arange(xlim[0], xlim[1]+1),\n",
    "                results_mean+3*error, results_mean-3*error, alpha=0.3, color='lightgray')\n",
    "ax.fill_between(np.arange(xlim[0], xlim[1]+1),\n",
    "                results_mean+4*error, results_mean-4*error, alpha=0.2, color='lightgray')\n",
    "ax.fill_between(np.arange(xlim[0], xlim[1]+1),\n",
    "                results_mean+5*error, results_mean-5*error, alpha=0.2, color='lightgray')\n",
    "#text box\n",
    "textstr = '\\n'.join((\n",
    "    r'$g=%.3f$ +/-$%.3f$' %(results_mean,error),\n",
    "    r'$Chi2=%.3f$' % (chi2, ),\n",
    "    r'$dof=%.3f$' % (ndof, ),\n",
    "    r'$p-value=%.3f$' %(prob,),\n",
    "    ))\n",
    "# these are matplotlib.patch.Patch properties\n",
    "props = dict(boxstyle='round', facecolor='white', alpha=0.6)\n",
    "\n",
    "# place a text box in upper left in axes coords\n",
    "ax.text(0.05, 0.97, textstr, transform=ax.transAxes, fontsize=12,\n",
    "        verticalalignment='top', bbox=props)\n",
    "#\n",
    "ax.set_ylabel('Measured $g$',fontsize=14)\n",
    "ax.set_xlabel('Measurement Numbers',fontsize=14)\n",
    "ax.set_title('Measurments',fontsize=16)\n",
    "ax.set_xlim(*old_lim)\n",
    "plt.legend(fontsize=12)\n",
    "plt.show()"
   ]
  },
  {
   "cell_type": "code",
   "execution_count": null,
   "id": "260a9081",
   "metadata": {},
   "outputs": [],
   "source": []
  }
 ],
 "metadata": {
  "kernelspec": {
   "display_name": "Python 3 (ipykernel)",
   "language": "python",
   "name": "python3"
  },
  "language_info": {
   "codemirror_mode": {
    "name": "ipython",
    "version": 3
   },
   "file_extension": ".py",
   "mimetype": "text/x-python",
   "name": "python",
   "nbconvert_exporter": "python",
   "pygments_lexer": "ipython3",
   "version": "3.9.7"
  }
 },
 "nbformat": 4,
 "nbformat_minor": 5
}
